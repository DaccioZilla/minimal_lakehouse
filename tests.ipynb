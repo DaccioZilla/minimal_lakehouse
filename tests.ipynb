{
 "cells": [
  {
   "cell_type": "code",
   "execution_count": 4,
   "id": "944a7f90",
   "metadata": {},
   "outputs": [],
   "source": [
    "import duckdb\n",
    "import dagster as dg\n",
    "import io\n",
    "from minimal_lakehouse.ressources import OpenF1Api, MinioStorage\n",
    "import json\n",
    "from dagster_duckdb import DuckDBResource\n"
   ]
  },
  {
   "cell_type": "code",
   "execution_count": 2,
   "id": "2f37d003",
   "metadata": {},
   "outputs": [],
   "source": [
    "daily_partition = dg.DailyPartitionsDefinition(start_date= '2025-01-01')\n",
    "monthly_partition = dg.MonthlyPartitionsDefinition(start_date= '2025-01-01', end_offset= 1)"
   ]
  },
  {
   "cell_type": "code",
   "execution_count": null,
   "id": "0e335806",
   "metadata": {},
   "outputs": [],
   "source": [
    "def openf1_interface(context: dg.AssetExecutionContext, api: OpenF1Api, minio: MinioStorage, request_params:dict[str, str] = {}) -> dg.MaterializeResult:\n",
    "          \n",
    "    context.log.info(f\"Requesting endpoint: {api.base_url}/{api.endpoint}\")\n",
    "    res = api.request(**request_params)\n",
    "    if res.status_code != 200:\n",
    "        return dg.MaterializeResult(metadata= {'result': dg.MetadataValue.text(f'Request for {api.endpoint} on date {context.partition_key} failed with status {res.status_code}')})\n",
    "    \n",
    "    data = res.json()\n",
    "\n",
    "    if not data:\n",
    "        return dg.MaterializeResult(metadata= {'result': dg.MetadataValue.text(f'No data for date {context.partition_key}')})\n",
    "    \n",
    "    data_bytes = json.dumps(data).encode('utf-8')\n",
    "\n",
    "    data_stream = io.BytesIO(data_bytes)\n",
    "\n",
    "    file_name = f'{api.endpoint}/{context.partition_key[:4]}/{context.partition_key[:-3]}/{context.partition_key}.json'\n",
    "\n",
    "    minio_client = minio.get_client()\n",
    "    minio_client.put_object(\n",
    "        minio.dest_bucket, \n",
    "        file_name, \n",
    "        data=data_stream, \n",
    "        length=len(data_bytes), \n",
    "        content_type='application/json'\n",
    "        )\n",
    "    \n",
    "    return dg.MaterializeResult(metadata= {'result': dg.MetadataValue.text(f\"{file_name} salvo no storage\")})\n",
    "\n",
    "\n",
    "@dg.asset(\n",
    "        partitions_def = daily_partition,\n",
    "        compute_kind = 'python',\n",
    "        group_name=\"openf1_raw\",\n",
    "        automation_condition= dg.AutomationCondition.on_cron('@daily')\n",
    ")\n",
    "def openf1_sessions(context: dg.AssetExecutionContext, sessions_api: OpenF1Api, minio: MinioStorage):\n",
    "    request_params = {'date_start': context.partition_key}\n",
    "    return openf1_interface(context, sessions_api, minio, request_params)"
   ]
  },
  {
   "cell_type": "code",
   "execution_count": null,
   "id": "617a5dcc",
   "metadata": {},
   "outputs": [],
   "source": [
    "@dg.asset(\n",
    "    partitions_def = monthly_partition,\n",
    "    compute_kind = 'python',\n",
    "    group_name=\"openf1_bronze\",\n",
    "    deps = [openf1_sessions],\n",
    "    automation_condition= dg.AutomationCondition.all_deps_updated_since_cron('@daily')\n",
    ")\n",
    "def bronze_sessions(context: dg.AssetExecutionContext, duckdb: DuckDBResource) -> dg.MaterializeResult:\n",
    "    \n",
    "    with duckdb.get_connection() as cnn:"
   ]
  },
  {
   "cell_type": "code",
   "execution_count": null,
   "id": "7cc89bbe",
   "metadata": {},
   "outputs": [
    {
     "ename": "IOException",
     "evalue": "IO Error: SSL connection failed error for HTTP GET to '/lakehouse/?encoding-type=url&list-type=2&prefix=sessions%2F2025%2F2025-01%2F'",
     "output_type": "error",
     "traceback": [
      "\u001b[1;31m---------------------------------------------------------------------------\u001b[0m",
      "\u001b[1;31mIOException\u001b[0m                               Traceback (most recent call last)",
      "Cell \u001b[1;32mIn[5], line 8\u001b[0m\n\u001b[0;32m      1\u001b[0m duckdb\u001b[38;5;241m.\u001b[39msql(\u001b[38;5;124mf\u001b[39m\u001b[38;5;124m\"\"\"\u001b[39m\n\u001b[0;32m      2\u001b[0m \u001b[38;5;124m            SET s3_region=\u001b[39m\u001b[38;5;124m'\u001b[39m\u001b[38;5;124mus-east-1\u001b[39m\u001b[38;5;124m'\u001b[39m\u001b[38;5;124m;\u001b[39m\n\u001b[0;32m      3\u001b[0m \u001b[38;5;124m            SET s3_url_style=\u001b[39m\u001b[38;5;124m'\u001b[39m\u001b[38;5;124mpath\u001b[39m\u001b[38;5;124m'\u001b[39m\u001b[38;5;124m;\u001b[39m\n\u001b[1;32m   (...)\u001b[0m\n\u001b[0;32m      6\u001b[0m \u001b[38;5;124m            SET s3_secret_access_key=\u001b[39m\u001b[38;5;124m'\u001b[39m\u001b[38;5;132;01m{\u001b[39;00mdg\u001b[38;5;241m.\u001b[39mEnvVar(\u001b[38;5;124m'\u001b[39m\u001b[38;5;124mMINIO_SECRET_KEY\u001b[39m\u001b[38;5;124m'\u001b[39m)\u001b[38;5;241m.\u001b[39mget_value()\u001b[38;5;132;01m}\u001b[39;00m\u001b[38;5;124m'\u001b[39m\u001b[38;5;124m;\u001b[39m\n\u001b[0;32m      7\u001b[0m \u001b[38;5;124m            \u001b[39m\u001b[38;5;124m\"\"\"\u001b[39m)\n\u001b[1;32m----> 8\u001b[0m \u001b[43mduckdb\u001b[49m\u001b[38;5;241;43m.\u001b[39;49m\u001b[43msql\u001b[49m\u001b[43m(\u001b[49m\n\u001b[0;32m      9\u001b[0m \u001b[43m    \u001b[49m\u001b[38;5;124;43mf\u001b[39;49m\u001b[38;5;124;43m\"\"\"\u001b[39;49m\n\u001b[0;32m     10\u001b[0m \u001b[38;5;124;43m    CREATE OR REPLACE TEMP VIEW sessions_stg AS\u001b[39;49m\n\u001b[0;32m     11\u001b[0m \u001b[38;5;124;43m    SELECT * FROM \u001b[39;49m\u001b[38;5;124;43m'\u001b[39;49m\u001b[38;5;124;43ms3://lakehouse/sessions/2025/2025-01/*.json\u001b[39;49m\u001b[38;5;124;43m'\u001b[39;49m\n\u001b[0;32m     12\u001b[0m \u001b[38;5;124;43m    \u001b[39;49m\u001b[38;5;124;43m\"\"\"\u001b[39;49m\n\u001b[0;32m     13\u001b[0m \u001b[43m    \u001b[49m\u001b[43m)\u001b[49m\n",
      "\u001b[1;31mIOException\u001b[0m: IO Error: SSL connection failed error for HTTP GET to '/lakehouse/?encoding-type=url&list-type=2&prefix=sessions%2F2025%2F2025-01%2F'"
     ]
    }
   ],
   "source": [
    "duckdb.sql(f\"\"\"\n",
    "            SET s3_region='us-east-1';\n",
    "            SET s3_endpoint='{dg.EnvVar('MINIO_API_HOST').get_value()}';\n",
    "            SET s3_access_key_id='{dg.EnvVar('MINIO_ACCESS_KEY').get_value()}' ;\n",
    "            SET s3_secret_access_key='{dg.EnvVar('MINIO_SECRET_KEY').get_value()}';\n",
    "            \"\"\")\n",
    "duckdb.sql(\n",
    "    f\"\"\"\n",
    "    CREATE OR REPLACE TEMP VIEW sessions_stg AS\n",
    "    SELECT * FROM 's3://lakehouse/sessions/2025/2025-01/*.json'\n",
    "    \"\"\"\n",
    "    )"
   ]
  }
 ],
 "metadata": {
  "kernelspec": {
   "display_name": "venv",
   "language": "python",
   "name": "python3"
  },
  "language_info": {
   "codemirror_mode": {
    "name": "ipython",
    "version": 3
   },
   "file_extension": ".py",
   "mimetype": "text/x-python",
   "name": "python",
   "nbconvert_exporter": "python",
   "pygments_lexer": "ipython3",
   "version": "3.10.11"
  }
 },
 "nbformat": 4,
 "nbformat_minor": 5
}
